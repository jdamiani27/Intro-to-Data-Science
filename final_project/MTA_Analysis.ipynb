{
 "metadata": {
  "name": "",
  "signature": "sha256:e1ee8e3a93d753ff36ac661704451d52f595a5732f252c9c878dc9cab703f8f1"
 },
 "nbformat": 3,
 "nbformat_minor": 0,
 "worksheets": [
  {
   "cells": [
    {
     "cell_type": "heading",
     "level": 1,
     "metadata": {},
     "source": [
      "Analyzing the NYC Subway Dataset"
     ]
    },
    {
     "cell_type": "code",
     "collapsed": false,
     "input": [
      "%matplotlib inline\n",
      "\n",
      "import pandas as pd\n",
      "\n",
      "turnstile_master = pd.read_csv('turnstile_data_master_with_weather.csv')\n",
      "turnstile_master.head()"
     ],
     "language": "python",
     "metadata": {},
     "outputs": [
      {
       "html": [
        "<div style=\"max-height:1000px;max-width:1500px;overflow:auto;\">\n",
        "<table border=\"1\" class=\"dataframe\">\n",
        "  <thead>\n",
        "    <tr style=\"text-align: right;\">\n",
        "      <th></th>\n",
        "      <th>Unnamed: 0</th>\n",
        "      <th>UNIT</th>\n",
        "      <th>DATEn</th>\n",
        "      <th>TIMEn</th>\n",
        "      <th>Hour</th>\n",
        "      <th>DESCn</th>\n",
        "      <th>ENTRIESn_hourly</th>\n",
        "      <th>EXITSn_hourly</th>\n",
        "      <th>maxpressurei</th>\n",
        "      <th>maxdewpti</th>\n",
        "      <th>...</th>\n",
        "      <th>meandewpti</th>\n",
        "      <th>meanpressurei</th>\n",
        "      <th>fog</th>\n",
        "      <th>rain</th>\n",
        "      <th>meanwindspdi</th>\n",
        "      <th>mintempi</th>\n",
        "      <th>meantempi</th>\n",
        "      <th>maxtempi</th>\n",
        "      <th>precipi</th>\n",
        "      <th>thunder</th>\n",
        "    </tr>\n",
        "  </thead>\n",
        "  <tbody>\n",
        "    <tr>\n",
        "      <th>0</th>\n",
        "      <td> 0</td>\n",
        "      <td> R001</td>\n",
        "      <td> 2011-05-01</td>\n",
        "      <td> 01:00:00</td>\n",
        "      <td>  1</td>\n",
        "      <td> REGULAR</td>\n",
        "      <td>    0</td>\n",
        "      <td>    0</td>\n",
        "      <td> 30.31</td>\n",
        "      <td> 42</td>\n",
        "      <td>...</td>\n",
        "      <td> 39</td>\n",
        "      <td> 30.27</td>\n",
        "      <td> 0</td>\n",
        "      <td> 0</td>\n",
        "      <td> 5</td>\n",
        "      <td> 50</td>\n",
        "      <td> 60</td>\n",
        "      <td> 69</td>\n",
        "      <td> 0</td>\n",
        "      <td> 0</td>\n",
        "    </tr>\n",
        "    <tr>\n",
        "      <th>1</th>\n",
        "      <td> 1</td>\n",
        "      <td> R001</td>\n",
        "      <td> 2011-05-01</td>\n",
        "      <td> 05:00:00</td>\n",
        "      <td>  5</td>\n",
        "      <td> REGULAR</td>\n",
        "      <td>  217</td>\n",
        "      <td>  553</td>\n",
        "      <td> 30.31</td>\n",
        "      <td> 42</td>\n",
        "      <td>...</td>\n",
        "      <td> 39</td>\n",
        "      <td> 30.27</td>\n",
        "      <td> 0</td>\n",
        "      <td> 0</td>\n",
        "      <td> 5</td>\n",
        "      <td> 50</td>\n",
        "      <td> 60</td>\n",
        "      <td> 69</td>\n",
        "      <td> 0</td>\n",
        "      <td> 0</td>\n",
        "    </tr>\n",
        "    <tr>\n",
        "      <th>2</th>\n",
        "      <td> 2</td>\n",
        "      <td> R001</td>\n",
        "      <td> 2011-05-01</td>\n",
        "      <td> 09:00:00</td>\n",
        "      <td>  9</td>\n",
        "      <td> REGULAR</td>\n",
        "      <td>  890</td>\n",
        "      <td> 1262</td>\n",
        "      <td> 30.31</td>\n",
        "      <td> 42</td>\n",
        "      <td>...</td>\n",
        "      <td> 39</td>\n",
        "      <td> 30.27</td>\n",
        "      <td> 0</td>\n",
        "      <td> 0</td>\n",
        "      <td> 5</td>\n",
        "      <td> 50</td>\n",
        "      <td> 60</td>\n",
        "      <td> 69</td>\n",
        "      <td> 0</td>\n",
        "      <td> 0</td>\n",
        "    </tr>\n",
        "    <tr>\n",
        "      <th>3</th>\n",
        "      <td> 3</td>\n",
        "      <td> R001</td>\n",
        "      <td> 2011-05-01</td>\n",
        "      <td> 13:00:00</td>\n",
        "      <td> 13</td>\n",
        "      <td> REGULAR</td>\n",
        "      <td> 2451</td>\n",
        "      <td> 3708</td>\n",
        "      <td> 30.31</td>\n",
        "      <td> 42</td>\n",
        "      <td>...</td>\n",
        "      <td> 39</td>\n",
        "      <td> 30.27</td>\n",
        "      <td> 0</td>\n",
        "      <td> 0</td>\n",
        "      <td> 5</td>\n",
        "      <td> 50</td>\n",
        "      <td> 60</td>\n",
        "      <td> 69</td>\n",
        "      <td> 0</td>\n",
        "      <td> 0</td>\n",
        "    </tr>\n",
        "    <tr>\n",
        "      <th>4</th>\n",
        "      <td> 4</td>\n",
        "      <td> R001</td>\n",
        "      <td> 2011-05-01</td>\n",
        "      <td> 17:00:00</td>\n",
        "      <td> 17</td>\n",
        "      <td> REGULAR</td>\n",
        "      <td> 4400</td>\n",
        "      <td> 2501</td>\n",
        "      <td> 30.31</td>\n",
        "      <td> 42</td>\n",
        "      <td>...</td>\n",
        "      <td> 39</td>\n",
        "      <td> 30.27</td>\n",
        "      <td> 0</td>\n",
        "      <td> 0</td>\n",
        "      <td> 5</td>\n",
        "      <td> 50</td>\n",
        "      <td> 60</td>\n",
        "      <td> 69</td>\n",
        "      <td> 0</td>\n",
        "      <td> 0</td>\n",
        "    </tr>\n",
        "  </tbody>\n",
        "</table>\n",
        "<p>5 rows \u00d7 22 columns</p>\n",
        "</div>"
       ],
       "metadata": {},
       "output_type": "pyout",
       "prompt_number": 1,
       "text": [
        "   Unnamed: 0  UNIT       DATEn     TIMEn  Hour    DESCn  ENTRIESn_hourly  \\\n",
        "0           0  R001  2011-05-01  01:00:00     1  REGULAR                0   \n",
        "1           1  R001  2011-05-01  05:00:00     5  REGULAR              217   \n",
        "2           2  R001  2011-05-01  09:00:00     9  REGULAR              890   \n",
        "3           3  R001  2011-05-01  13:00:00    13  REGULAR             2451   \n",
        "4           4  R001  2011-05-01  17:00:00    17  REGULAR             4400   \n",
        "\n",
        "   EXITSn_hourly  maxpressurei  maxdewpti   ...     meandewpti  meanpressurei  \\\n",
        "0              0         30.31         42   ...             39          30.27   \n",
        "1            553         30.31         42   ...             39          30.27   \n",
        "2           1262         30.31         42   ...             39          30.27   \n",
        "3           3708         30.31         42   ...             39          30.27   \n",
        "4           2501         30.31         42   ...             39          30.27   \n",
        "\n",
        "   fog  rain  meanwindspdi  mintempi  meantempi  maxtempi  precipi  thunder  \n",
        "0    0     0             5        50         60        69        0        0  \n",
        "1    0     0             5        50         60        69        0        0  \n",
        "2    0     0             5        50         60        69        0        0  \n",
        "3    0     0             5        50         60        69        0        0  \n",
        "4    0     0             5        50         60        69        0        0  \n",
        "\n",
        "[5 rows x 22 columns]"
       ]
      }
     ],
     "prompt_number": 1
    },
    {
     "cell_type": "heading",
     "level": 2,
     "metadata": {},
     "source": [
      "Section 1: Statistical Testing"
     ]
    },
    {
     "cell_type": "heading",
     "level": 3,
     "metadata": {},
     "source": [
      "1.1 Statistical Test"
     ]
    },
    {
     "cell_type": "markdown",
     "metadata": {},
     "source": [
      "The NYC subway data was analyzed with the Mann-Whitney U-Test.  A one-tail P value was used.  \n",
      "\n",
      "The P value returned by scipy.stats.mannwhitneyu is one-sided as noted here: http://docs.scipy.org/doc/scipy-0.14.0/reference/generated/scipy.stats.mannwhitneyu.html"
     ]
    },
    {
     "cell_type": "heading",
     "level": 3,
     "metadata": {},
     "source": [
      "1.2 Test Applicability"
     ]
    },
    {
     "cell_type": "markdown",
     "metadata": {},
     "source": [
      "The overarching question being asked within this course is whether subway ridership varies with the weather.  The provided dataset allows hourly entries to MTA turnstiles to be spliced into two different samples, entries with and without rain.  The Mann-Whitney U-Test tests the null hypothesis that the two samples being compared are derived from the same population.  This null hypothesis allows us to test whether there is a statistically significant difference in ridership on rainy and non-rainy days (i.e., are the hourly entries derived from the same population).  Furthermore, exploratory data analysis (namely the histogram generated in Problem 3.1) has shown that the data is not normally distributed.  The Mann-Whitney U-Test does not assume normality of the data, making this test appropriate."
     ]
    },
    {
     "cell_type": "heading",
     "level": 3,
     "metadata": {},
     "source": [
      "1.3 Test Results"
     ]
    },
    {
     "cell_type": "markdown",
     "metadata": {},
     "source": [
      "The numerical results of the Mann-Whitney U-Test are the following:"
     ]
    },
    {
     "cell_type": "code",
     "collapsed": false,
     "input": [
      "import numpy as np\n",
      "\n",
      "with_rain_mean = np.mean(turnstile_master[turnstile_master.rain == 1]['ENTRIESn_hourly'])\n",
      "without_rain_mean = np.mean(turnstile_master[turnstile_master.rain == 0]['ENTRIESn_hourly'])\n",
      "\n",
      "print \"Mean entries, with rain: {0}\\nMean entries, without rain: {1}\".format(with_rain_mean, without_rain_mean)"
     ],
     "language": "python",
     "metadata": {},
     "outputs": [
      {
       "output_type": "stream",
       "stream": "stdout",
       "text": [
        "Mean entries, with rain: 1105.44637675\n",
        "Mean entries, without rain: 1090.27878015\n"
       ]
      }
     ],
     "prompt_number": 2
    },
    {
     "cell_type": "code",
     "collapsed": false,
     "input": [
      "import scipy\n",
      "import scipy.stats\n",
      "\n",
      "[U, p] = scipy.stats.mannwhitneyu(turnstile_master[turnstile_master.rain == 1]['ENTRIESn_hourly'],\n",
      "                                  turnstile_master[turnstile_master.rain == 0]['ENTRIESn_hourly'])\n",
      "\n",
      "print \"Mann-Whitney Test Statistic: {0}\\np-Value: {1}\".format(U, p)"
     ],
     "language": "python",
     "metadata": {},
     "outputs": [
      {
       "output_type": "stream",
       "stream": "stdout",
       "text": [
        "Mann-Whitney Test Statistic: 1924409167.0\n",
        "p-Value: 0.0249999127935\n"
       ]
      }
     ],
     "prompt_number": 3
    },
    {
     "cell_type": "heading",
     "level": 3,
     "metadata": {},
     "source": [
      "1.4 Test Significance"
     ]
    },
    {
     "cell_type": "markdown",
     "metadata": {},
     "source": [
      "With this small p-value, we reject the null hypothesis of the Mann-Whitney U-Test.  In other words, the distribution of the number of entries is statistically different between rainy and non-rainy days."
     ]
    },
    {
     "cell_type": "heading",
     "level": 2,
     "metadata": {},
     "source": [
      "Section 2: Linear Regression"
     ]
    },
    {
     "cell_type": "heading",
     "level": 3,
     "metadata": {},
     "source": [
      "2.1 Predicting Ridership with Ordinary Least Squares"
     ]
    },
    {
     "cell_type": "markdown",
     "metadata": {},
     "source": [
      "In my regression model I implemented Ordinary Least Squares.  I implemented the normal equation directly, and did not use the Statsmodel package.  I referenced the Machine Learning course taught by Stanford\u2019s Andrew Ng.  The lecture material can be found here: https://d396qusza40orc.cloudfront.net/ml/docs/slides/Lecture4.pptx"
     ]
    },
    {
     "cell_type": "heading",
     "level": 3,
     "metadata": {},
     "source": [
      "2.2 Feature Selection"
     ]
    },
    {
     "cell_type": "markdown",
     "metadata": {},
     "source": [
      "I used the following features directly from the provided dataset:\n",
      "\n",
      "* rain\n",
      "* fog\n",
      "* Hour\n",
      "* mintempi\n",
      "* meantempi\n",
      "* maxtempi"
     ]
    },
    {
     "cell_type": "code",
     "collapsed": false,
     "input": [
      "# Select Features\n",
      "features = turnstile_master[['rain', 'fog', 'precipi', 'Hour', 'mintempi', 'maxtempi']]"
     ],
     "language": "python",
     "metadata": {},
     "outputs": [],
     "prompt_number": 4
    },
    {
     "cell_type": "markdown",
     "metadata": {},
     "source": [
      "I created the following features by transforming data:\n",
      "\n",
      "* weekday \u2013 The day of the week as an integer [0:6]\n",
      "* precipi \u2013 The square root of the \u201cprecipi\u201d field in the source dataset"
     ]
    },
    {
     "cell_type": "code",
     "collapsed": false,
     "input": [
      "from datetime import datetime\n",
      "\n",
      "features.is_copy = False # needed to prevent warning about chained assignment\n",
      "\n",
      "f = lambda x: datetime.strptime(x, \"%Y-%m-%d\").weekday()\n",
      "features['weekday'] = turnstile_master['DATEn'].apply(f)\n",
      "\n",
      "# Create polynomial features\n",
      "features['precipi'] = features['precipi']**0.5"
     ],
     "language": "python",
     "metadata": {},
     "outputs": [],
     "prompt_number": 5
    },
    {
     "cell_type": "markdown",
     "metadata": {},
     "source": [
      "I used dummy variables to tie the above chosen features to a given UNIT:"
     ]
    },
    {
     "cell_type": "code",
     "collapsed": false,
     "input": [
      "# Add UNIT to features using dummy variables\n",
      "dummy_units = pd.get_dummies(turnstile_master['UNIT'], prefix='unit')\n",
      "features = features.join(dummy_units)"
     ],
     "language": "python",
     "metadata": {},
     "outputs": [],
     "prompt_number": 6
    },
    {
     "cell_type": "heading",
     "level": 3,
     "metadata": {},
     "source": [
      "2.3 Feature Selection Rationale"
     ]
    },
    {
     "cell_type": "markdown",
     "metadata": {},
     "source": [
      "I chose to use mintempi, meantempi, and maxtempi as features as I believe temperature is a component of the weather that affects people\u2019s decision making.  A given temperature may affect how long and how much effort it takes to clothe in the morning.  A person may simply choose to stay indoors due to discomfort with a given temperature.\n",
      "\n",
      "Hour and weekday features were chosen as it is easily observed how ridership varies with time of day and day of week.  A phenomenon supporting the Hour feature is the daily rush hours that mass transit systems and roadways exhibit and accommodate.  An observation supporting the use of weekday is how the MTA train schedule varies between weekdays and weekends, with trains arriving with more infrequency on Saturday and Sunday. \n"
     ]
    },
    {
     "cell_type": "heading",
     "level": 3,
     "metadata": {},
     "source": [
      "2.4 Model Results"
     ]
    },
    {
     "cell_type": "code",
     "collapsed": false,
     "input": [
      "# Values\n",
      "values = turnstile_master[['ENTRIESn_hourly']]\n",
      "m = len(values)\n",
      "\n",
      "# Add a column of 1s (y intercept)\n",
      "features['ones'] = np.ones(m)\n",
      "    \n",
      "# Convert features and values to numpy arrays\n",
      "features_array = np.array(features)\n",
      "values_array = np.array(values).flatten()\n",
      "features_array_transpose = features_array.transpose()\n",
      "\n",
      "# Calculate theta and make predictions\n",
      "theta = np.dot(np.dot(np.linalg.pinv(np.dot(features_array_transpose, features_array)), features_array_transpose), values_array)\n",
      "predictions = np.dot(features_array, theta)"
     ],
     "language": "python",
     "metadata": {},
     "outputs": [],
     "prompt_number": 7
    },
    {
     "cell_type": "code",
     "collapsed": false,
     "input": [
      "SST = ((turnstile_master['ENTRIESn_hourly'] - np.mean(turnstile_master['ENTRIESn_hourly']))**2).sum()\n",
      "SSReg = ((predictions - np.mean(turnstile_master['ENTRIESn_hourly']))**2).sum()\n",
      "r_squared = SSReg / SST\n",
      "\n",
      "print \"The R^2 of the model is {0}\".format(r_squared)"
     ],
     "language": "python",
     "metadata": {},
     "outputs": [
      {
       "output_type": "stream",
       "stream": "stdout",
       "text": [
        "The R^2 of the model is 0.463590704957\n"
       ]
      }
     ],
     "prompt_number": 8
    },
    {
     "cell_type": "heading",
     "level": 3,
     "metadata": {},
     "source": [
      "2.5 Goodness of Fit"
     ]
    },
    {
     "cell_type": "markdown",
     "metadata": {},
     "source": [
      "This R^2 value is relatively low, meaning that the fit of this regression model is not very good.  I do not believe that this linear model is appropriate given this low R^2 value.  Furthermore, the categorical nature of data in the given data set, such as \u2018rain\u2019, makes a linear model inappropriate."
     ]
    },
    {
     "cell_type": "heading",
     "level": 2,
     "metadata": {},
     "source": [
      "Section 3: Visualization"
     ]
    },
    {
     "cell_type": "heading",
     "level": 3,
     "metadata": {},
     "source": [
      "3.1 Distribution of ENTRIESn_hourly"
     ]
    },
    {
     "cell_type": "code",
     "collapsed": false,
     "input": [
      "import matplotlib.pyplot as plt\n",
      "\n",
      "ax = turnstile_master[turnstile_master.rain == 0]['ENTRIESn_hourly'].plot(kind='hist', bins=30, label='No Rain')\n",
      "ax = turnstile_master[turnstile_master.rain == 1]['ENTRIESn_hourly'].plot(kind='hist', bins=30, label='Rain')\n",
      "ax.legend()\n",
      "ax.set_ylabel('Frequency')\n",
      "ax.set_xlabel('ENTRIESn_hourly')\n",
      "ax.set_title('Histogram of ENTRIESn_hourly')"
     ],
     "language": "python",
     "metadata": {},
     "outputs": [
      {
       "metadata": {},
       "output_type": "pyout",
       "prompt_number": 12,
       "text": [
        "<matplotlib.text.Text at 0x10cddba90>"
       ]
      },
      {
       "metadata": {},
       "output_type": "display_data",
       "png": "[encoded data removed]",
       "text": [
        "<matplotlib.figure.Figure at 0x10cf04610>"
       ]
      }
     ],
     "prompt_number": 12
    },
    {
     "cell_type": "markdown",
     "metadata": {},
     "source": [
      "The distribution of ENTRIESn_hourly appears to not be normally distributed and skewed to the right on both rainy and non-rainy days.  The mode appears to be within the smallest bin for both distributions.  There are far fewer observations on rainy days than non-rainy days.  Though it is difficult to discern from this visualization, but it appears that the distribution of ENTRIESn_hourly on rainy days is shifted slightly right relative to the distribution on non-rainy days."
     ]
    },
    {
     "cell_type": "heading",
     "level": 3,
     "metadata": {},
     "source": [
      "3.2 Average Hourly Ridership by Day of Week"
     ]
    },
    {
     "cell_type": "code",
     "collapsed": false,
     "input": [
      "import pandasql\n",
      "from ggplot import *\n",
      "\n",
      "df = turnstile_master[['DATEn', 'ENTRIESn_hourly', 'rain']]\n",
      " \n",
      "q = \"\"\"\n",
      "    select cast(strftime('%w', DATEn) as integer) as weekday, sum(ENTRIESn_hourly)/count(*) as hourlyentries\n",
      "    from df\n",
      "    group by cast(strftime('%w', DATEn) as integer)\n",
      "    \"\"\"\n",
      "    \n",
      "#Execute SQL command against the pandas frame\n",
      "rainy_days = pandasql.sqldf(q.lower(), locals())\n",
      "\n",
      "\n",
      "print ggplot(rainy_days, aes('weekday', 'hourlyentries')) + \\\n",
      "        geom_bar(fill = 'steelblue', stat='bar') + \\\n",
      "        scale_x_continuous(name=\"Weekday\", \n",
      "                            breaks=[0, 1, 2, 3, 4, 5, 6], \n",
      "                            labels=[\"Sunday\", \n",
      "                                    \"Monday\",\n",
      "                                    \"Tuesday\",\n",
      "                                    \"Wednesday\", \n",
      "                                    \"Thursday\", \n",
      "                                    \"Friday\", \n",
      "                                    \"Saturday\"]) + \\\n",
      "        ggtitle(\"Average ENTRIESn_hourly by Weekday\") + \\\n",
      "        ylab(\"ENTRIESn_hourly\")"
     ],
     "language": "python",
     "metadata": {},
     "outputs": [
      {
       "metadata": {},
       "output_type": "display_data",
       "png": "[encoded data removed]",
       "text": [
        "<matplotlib.figure.Figure at 0x10cf1f690>"
       ]
      },
      {
       "output_type": "stream",
       "stream": "stdout",
       "text": [
        "<ggplot: (320493813)>\n"
       ]
      }
     ],
     "prompt_number": 16
    },
    {
     "cell_type": "markdown",
     "metadata": {},
     "source": [
      "The above bar chart shows the average hourly ridership by day of week.  The sum of ENTRIESn_hourly by day of week was divided by the count of rows for a given day of week (as each row represents an hour\u2019s worth of data).  The bar chart shows that the average hourly ridership is higher on weekdays than weekends, with Saturday seeing significantly higher ridership than Sunday.  It appears that the average hourly ridership on Monday is significantly different than the rest of the weekdays.  This may be due to a seasonal effect of Monday holidays.  The given data set is a sample from May 2011.  There is at least one major holiday that falls on Monday in the month of May: Memorial Day."
     ]
    },
    {
     "cell_type": "heading",
     "level": 2,
     "metadata": {},
     "source": [
      "Section 4: Conclusion"
     ]
    },
    {
     "cell_type": "heading",
     "level": 3,
     "metadata": {},
     "source": [
      "4.1 Do More People Ride the Subway When it is Raining?"
     ]
    },
    {
     "cell_type": "markdown",
     "metadata": {},
     "source": [
      "Based on my analysis, I believe that more people ride the NYC subway when it is raining."
     ]
    },
    {
     "cell_type": "heading",
     "level": 2,
     "metadata": {},
     "source": [
      "4.2 Rationale"
     ]
    },
    {
     "cell_type": "markdown",
     "metadata": {},
     "source": [
      "As seen in Section 1 Question 3, the mean of ENTRIESn_hourly is greater for hours with rain than without (1,105 vs. 1,090).  Additionally, a Mann-Whitney U Test shows that the ENTRIESn_hourly sample with rain appears to be drawn from a different distribution (or population) than the ENTRIESn_hourly sample from hours without rain.  In Section 3 Question 1 a histogram of ENTRIESn_hourly with and without rain is shown.  From this visualization, it appears that the distribution of ENTRIESn_hourly on days with rain has a fatter right tail.  In other words, this fatter tail implies higher ridership, with higher frequencies of ENTRIESn_hourly in larger bins."
     ]
    },
    {
     "cell_type": "code",
     "collapsed": false,
     "input": [
      "df = turnstile_master[['DATEn', 'ENTRIESn_hourly', 'rain']]\n",
      "df.is_copy = False\n",
      "\n",
      "# get the weekday as a string\n",
      "f = lambda x: datetime.strptime(x, \"%Y-%m-%d\").strftime('%A') \n",
      "\n",
      "df['weekday'] = df['DATEn'].apply(f)\n",
      "\n",
      "print ggplot(aes(x='ENTRIESn_hourly', color='rain'), data = df) \\\n",
      "        + geom_density() \\\n",
      "        + xlim(0,5000) \\\n",
      "        + facet_wrap('weekday')"
     ],
     "language": "python",
     "metadata": {},
     "outputs": [
      {
       "metadata": {},
       "output_type": "display_data",
       "png": "[encoded data removed]",
       "text": [
        "<matplotlib.figure.Figure at 0x10d842150>"
       ]
      },
      {
       "output_type": "stream",
       "stream": "stdout",
       "text": [
        "<ggplot: (282608225)>\n"
       ]
      }
     ],
     "prompt_number": 17
    },
    {
     "cell_type": "markdown",
     "metadata": {},
     "source": [
      "This faceted grid shows the density functions of ENTRIESn_hourly with and without rain for each day of the week.  Currently legends do not work within ggplot facets.  Red represents without rain, and blue represents with rain.  It appears for every day, except Monday, that the distribution of ENTRIESn_hourly has a fatter right tail when there is rain."
     ]
    },
    {
     "cell_type": "heading",
     "level": 2,
     "metadata": {},
     "source": [
      "Section 5: Reflection"
     ]
    },
    {
     "cell_type": "heading",
     "level": 3,
     "metadata": {},
     "source": [
      "5.1 Shortcomings of the Data Set and Methods of Analysis"
     ]
    },
    {
     "cell_type": "markdown",
     "metadata": {},
     "source": [
      "The data set provided contains only one month of MTA data.  This smaller data set is subject to effects of seasonality, as the time of year may also affect ridership.  Additionally, the Month of May contains a Monday holiday, which appears to have an affect on the data in the visualizations in Section 3 Question 2 and Section 4.  The largest shortcoming I see with this data set is that it appears that the MTA component of the data is produced on an hourly basis, but it is joined to daily weather data.  For example, if it rained at any point in a given day, every hour of that day will reflect that it rained.  This prevents a truly granular analysis of how the weather can affect ridership within a day."
     ]
    }
   ],
   "metadata": {}
  }
 ]
}